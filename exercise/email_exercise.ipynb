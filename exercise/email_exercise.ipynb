{
 "cells": [
  {
   "cell_type": "markdown",
   "metadata": {},
   "source": [
    "# Module 3 Exercise: Email Agent with HITL\n",
    "\n",
    "Add HITL to the email agent below:\n",
    "1. Between nodes\n",
    "2. Within nodes\n",
    "\n",
    "The agent is purposefully quite basic. Feel free to improve upon what has already been built!\n",
    "\n",
    "When you've finished testing your agent in this notebook deploy your agent to LangGraph Studio."
   ]
  },
  {
   "cell_type": "markdown",
   "metadata": {},
   "source": [
    "### Email Agent (No HITL)"
   ]
  },
  {
   "cell_type": "markdown",
   "metadata": {},
   "source": [
    "Creating Agent"
   ]
  },
  {
   "cell_type": "code",
   "execution_count": null,
   "metadata": {},
   "outputs": [],
   "source": [
    "from langchain_openai import ChatOpenAI\n",
    "from langchain_core.messages import SystemMessage\n",
    "from langchain.tools import tool\n",
    "from langgraph.graph import MessagesState\n",
    "from langgraph.graph import StateGraph, START\n",
    "from langgraph.prebuilt import tools_condition\n",
    "from langgraph.checkpoint.memory import MemorySaver\n",
    "\n",
    "# Build Model\n",
    "model = ChatOpenAI(temperature=0, streaming=True, model=\"gpt-5-nano\")\n",
    "\n",
    "# Define system prompt\n",
    "sys_msg = SystemMessage(content=\"You are a conversational and friendly email writing assistant.\" \\\n",
    "\"You can do one of 2 things:\" \\\n",
    "\"1. Talk to the user about the email they would like to send.\" \\\n",
    "\"2. Draft and send an appropriate email.\")\n",
    "\n",
    "# Create our email sending tool\n",
    "# This will just return \"Email Sent!\" and the email info back to the model rather than actually sending an email\n",
    "@tool\n",
    "def send_an_email(to:str, subject:str, body:str):\n",
    "    '''Send a drafted email on behalf of the user. \n",
    "    Only call this when you have received the email of the person you're sending this to.\n",
    "    \n",
    "    Args:\n",
    "        to: str\n",
    "        subject: str\n",
    "        body: str'''\n",
    "    \n",
    "    output = f\"Email Sent!\\nTo: {to}\\nSubject: {subject}\\nBody: {body}\"\n",
    "    \n",
    "    return output\n",
    "\n",
    "# bind tool to model\n",
    "email_model = model.bind_tools([send_an_email])\n",
    "\n",
    "# define state\n",
    "class State(MessagesState):\n",
    "    pass\n",
    "\n",
    "# create nodes\n",
    "def model_node(state:State):\n",
    "\n",
    "    return {\"messages\": [email_model.invoke([sys_msg] + state[\"messages\"])]}\n",
    "\n",
    "def tool_node(state:State):\n",
    "\n",
    "    # last message contains param tool_calls, a list of dicts\n",
    "    tool_call = state[\"messages\"][-1].tool_calls[0]\n",
    "\n",
    "    # make tool call\n",
    "    observation = send_an_email.invoke(tool_call[\"args\"])\n",
    "\n",
    "    tool_message = {\"role\": \"tool\", \"content\" : observation, \"tool_call_id\": tool_call[\"id\"]}\n",
    "\n",
    "    return {'messages': tool_message}\n",
    "\n",
    "# Create graph\n",
    "builder = StateGraph(State)\n",
    "\n",
    "# Add nodes\n",
    "builder.add_node(\"model_node\", model_node)\n",
    "builder.add_node(\"tools\", tool_node)\n",
    "\n",
    "# Add edges\n",
    "builder.add_edge(START, \"model_node\")\n",
    "builder.add_conditional_edges(\"model_node\", tools_condition)\n",
    "builder.add_edge(\"tools\", \"model_node\")\n",
    "\n",
    "# Compile and view\n",
    "memory = MemorySaver()\n",
    "graph = builder.compile(checkpointer=memory)\n",
    "\n",
    "# Show\n",
    "graph.get_graph().print_ascii()"
   ]
  },
  {
   "cell_type": "markdown",
   "metadata": {},
   "source": [
    "Running agent"
   ]
  },
  {
   "cell_type": "code",
   "execution_count": null,
   "metadata": {},
   "outputs": [],
   "source": [
    "from langchain_core.messages import HumanMessage\n",
    "\n",
    "# Input\n",
    "input = {\"messages\": HumanMessage(content=\"Please draft an email to my boss (sean@example.com) informing them I'll be at tomorrow's meeting.\")}\n",
    "\n",
    "# Thread\n",
    "thread = {\"configurable\": {\"thread_id\": \"1\"}}\n",
    "\n",
    "# Run the graph\n",
    "messages = graph.invoke(input, thread)\n",
    "for m in messages['messages']:\n",
    "    m.pretty_print()"
   ]
  },
  {
   "cell_type": "code",
   "execution_count": null,
   "metadata": {},
   "outputs": [],
   "source": []
  }
 ],
 "metadata": {
  "kernelspec": {
   "display_name": ".venv",
   "language": "python",
   "name": "python3"
  },
  "language_info": {
   "codemirror_mode": {
    "name": "ipython",
    "version": 3
   },
   "file_extension": ".py",
   "mimetype": "text/x-python",
   "name": "python",
   "nbconvert_exporter": "python",
   "pygments_lexer": "ipython3",
   "version": "3.13.0"
  }
 },
 "nbformat": 4,
 "nbformat_minor": 2
}
