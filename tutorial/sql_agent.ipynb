{
 "cells": [
  {
   "cell_type": "markdown",
   "metadata": {},
   "source": [
    "# Adding HITL to a SQL Agent\n",
    "\n",
    "## Agent with no HITL"
   ]
  },
  {
   "cell_type": "markdown",
   "metadata": {},
   "source": [
    "Get our sqlite database loaded"
   ]
  },
  {
   "cell_type": "code",
   "execution_count": 10,
   "metadata": {},
   "outputs": [
    {
     "name": "stdout",
     "output_type": "stream",
     "text": [
      "['inspection_records']\n",
      "\n",
      "CREATE TABLE inspection_records (\n",
      "\tbusiness_id INTEGER NOT NULL, \n",
      "\tbusiness_name VARCHAR(64) NOT NULL, \n",
      "\tbusiness_address VARCHAR(50), \n",
      "\tbusiness_city VARCHAR(13) NOT NULL, \n",
      "\tbusiness_state VARCHAR(2) NOT NULL, \n",
      "\tbusiness_postal_code VARCHAR(9), \n",
      "\tbusiness_latitude FLOAT, \n",
      "\tbusiness_longitude FLOAT, \n",
      "\tbusiness_phone_number BIGINT, \n",
      "\tinspection_id VARCHAR(14) NOT NULL, \n",
      "\tinspection_date DATE NOT NULL, \n",
      "\tinspection_score INTEGER, \n",
      "\tinspection_type VARCHAR(33) NOT NULL, \n",
      "\tviolation_id VARCHAR(21), \n",
      "\tviolation_description VARCHAR(73), \n",
      "\trisk_category VARCHAR(13)\n",
      ")\n",
      "\n",
      "/*\n",
      "3 rows from inspection_records table:\n",
      "business_id\tbusiness_name\tbusiness_address\tbusiness_city\tbusiness_state\tbusiness_postal_code\tbusiness_latitude\tbusiness_longitude\tbusiness_phone_number\tinspection_id\tinspection_date\tinspection_score\tinspection_type\tviolation_id\tviolation_description\trisk_category\n",
      "10\tTiramisu Kitchen\t033 Belden Pl\tSan Francisco\tCA\t94104\t37.791116\t-122.403816\tNone\t10_20140114\t2014-01-14\t92\tRoutine - Unscheduled\t10_20140114_103119\tInadequate and inaccessible handwashing facilities\tModerate Risk\n",
      "10\tTiramisu Kitchen\t033 Belden Pl\tSan Francisco\tCA\t94104\t37.791116\t-122.403816\tNone\t10_20140114\t2014-01-14\t92\tRoutine - Unscheduled\t10_20140114_103145\tImproper storage of equipment utensils or linens\tLow Risk\n",
      "10\tTiramisu Kitchen\t033 Belden Pl\tSan Francisco\tCA\t94104\t37.791116\t-122.403816\tNone\t10_20140114\t2014-01-14\t92\tRoutine - Unscheduled\t10_20140114_103154\tUnclean or degraded floors walls or ceilings\tLow Risk\n",
      "*/\n"
     ]
    }
   ],
   "source": [
    "from langchain import SQLDatabase\n",
    "\n",
    "db = SQLDatabase.from_uri(\"sqlite:///sf-food-inspections-lives.sqlite\")\n",
    "print(db.get_usable_table_names())\n",
    "print(db.get_table_info(['inspection_records']))"
   ]
  },
  {
   "cell_type": "markdown",
   "metadata": {},
   "source": [
    "Create our model"
   ]
  },
  {
   "cell_type": "code",
   "execution_count": 11,
   "metadata": {},
   "outputs": [],
   "source": [
    "from langchain_openai import ChatOpenAI\n",
    "from langchain_core.messages import SystemMessage\n",
    "\n",
    "# Build Model\n",
    "model = ChatOpenAI(temperature=0, streaming=True, model=\"gpt-5-nano\")\n",
    "\n",
    "# Define system prompt\n",
    "sys_msg = SystemMessage(content=\"You are a conversational and friendly sql database assistant.\" \\\n",
    "\"When a customer asks a question you must make a call to the db in order to retrieve the necessary info.\" \\\n",
    "f\"There is one usable table: {db.get_usable_table_names()} - table info: {db.get_table_info(['inspection_records'])}\")"
   ]
  },
  {
   "cell_type": "markdown",
   "metadata": {},
   "source": [
    "Create our db lookup tool"
   ]
  },
  {
   "cell_type": "code",
   "execution_count": 12,
   "metadata": {},
   "outputs": [],
   "source": [
    "from langchain_core.tools import tool\n",
    "\n",
    "@tool\n",
    "def make_db_call(query:str):\n",
    "    \"\"\"Look up info from the db to answer the customer's question.\n",
    "\n",
    "    Args:\n",
    "        query: str\"\"\"\n",
    "    \n",
    "    try:\n",
    "        info = db.run(f\"{query}\")\n",
    "\n",
    "        return {\"info\": info}\n",
    "    except Exception as e:\n",
    "        \n",
    "        return {\"error_message\": e}\n",
    "    \n",
    "# bind tool to model\n",
    "sql_model = model.bind_tools([make_db_call])"
   ]
  },
  {
   "cell_type": "markdown",
   "metadata": {},
   "source": [
    "Define MessagesState"
   ]
  },
  {
   "cell_type": "code",
   "execution_count": 13,
   "metadata": {},
   "outputs": [],
   "source": [
    "from langgraph.graph import MessagesState\n",
    "\n",
    "class State(MessagesState):\n",
    "    pass"
   ]
  },
  {
   "cell_type": "markdown",
   "metadata": {},
   "source": [
    "Create Nodes"
   ]
  },
  {
   "cell_type": "code",
   "execution_count": 14,
   "metadata": {},
   "outputs": [],
   "source": [
    "def model_node(state:State):\n",
    "\n",
    "    return {\"messages\": [sql_model.invoke([sys_msg] + state[\"messages\"])]}\n",
    "\n",
    "def tool_node(state:State):\n",
    "\n",
    "    # last message contains param tool_calls, a list of dicts\n",
    "    tool_call = state[\"messages\"][-1].tool_calls[0]\n",
    "\n",
    "    # make tool call\n",
    "    observation = make_db_call.invoke(tool_call[\"args\"])\n",
    "\n",
    "    tool_message = {\"role\": \"tool\", \"content\" : observation, \"tool_call_id\": tool_call[\"id\"]}\n",
    "\n",
    "    return {'messages': tool_message}"
   ]
  },
  {
   "cell_type": "markdown",
   "metadata": {},
   "source": [
    "Create Graph"
   ]
  },
  {
   "cell_type": "code",
   "execution_count": 15,
   "metadata": {},
   "outputs": [
    {
     "name": "stdout",
     "output_type": "stream",
     "text": [
      "        +-----------+         \n",
      "        | __start__ |         \n",
      "        +-----------+         \n",
      "               *              \n",
      "               *              \n",
      "               *              \n",
      "        +------------+        \n",
      "        | model_node |        \n",
      "        +------------+        \n",
      "          .         .         \n",
      "        ..           ..       \n",
      "       .               .      \n",
      "+---------+         +-------+ \n",
      "| __end__ |         | tools | \n",
      "+---------+         +-------+ \n"
     ]
    }
   ],
   "source": [
    "from langgraph.graph import StateGraph, START\n",
    "from langgraph.prebuilt import tools_condition\n",
    "from IPython.display import Image, display\n",
    "\n",
    "# Create graph\n",
    "builder = StateGraph(State)\n",
    "\n",
    "# Add nodes\n",
    "builder.add_node(\"model_node\", model_node)\n",
    "builder.add_node(\"tools\", tool_node)\n",
    "\n",
    "# Add edges\n",
    "builder.add_edge(START, \"model_node\")\n",
    "builder.add_conditional_edges(\"model_node\", tools_condition)\n",
    "builder.add_edge(\"tools\", \"model_node\")\n",
    "\n",
    "# Compile and view\n",
    "graph = builder.compile()\n",
    "\n",
    "# Show\n",
    "graph.get_graph().print_ascii()"
   ]
  },
  {
   "cell_type": "markdown",
   "metadata": {},
   "source": [
    "Invoke"
   ]
  },
  {
   "cell_type": "code",
   "execution_count": 16,
   "metadata": {},
   "outputs": [
    {
     "name": "stdout",
     "output_type": "stream",
     "text": [
      "================================\u001b[1m Human Message \u001b[0m=================================\n",
      "\n",
      "What is the average inspection score for restaurants?\n",
      "==================================\u001b[1m Ai Message \u001b[0m==================================\n",
      "Tool Calls:\n",
      "  make_db_call (call_tLBaZcPxN8B5G36nMmRNeLGx)\n",
      " Call ID: call_tLBaZcPxN8B5G36nMmRNeLGx\n",
      "  Args:\n",
      "    query: SELECT AVG(inspection_score) AS average_inspection_score FROM inspection_records;\n",
      "=================================\u001b[1m Tool Message \u001b[0m=================================\n",
      "\n",
      "{'info': '[(86.13049016485805,)]'}\n",
      "==================================\u001b[1m Ai Message \u001b[0m==================================\n",
      "\n",
      "The average inspection score for restaurants in the records is about 86.13 (rounded to two decimals). \n",
      "\n",
      "If you’d like, I can break this down by city/state, inspection type, or risk category.\n"
     ]
    }
   ],
   "source": [
    "from langchain_core.messages import HumanMessage\n",
    "\n",
    "messages = [HumanMessage(content=\"What is the average inspection score for restaurants?\")]\n",
    "messages = graph.invoke({\"messages\": messages})\n",
    "for m in messages['messages']:\n",
    "    m.pretty_print()"
   ]
  },
  {
   "cell_type": "markdown",
   "metadata": {},
   "source": [
    "## Interruption *between* nodes"
   ]
  },
  {
   "cell_type": "code",
   "execution_count": 17,
   "metadata": {},
   "outputs": [
    {
     "data": {
      "image/png": "[encoded data removed]",
      "text/plain": [
       "<IPython.core.display.Image object>"
      ]
     },
     "metadata": {},
     "output_type": "display_data"
    }
   ],
   "source": [
    "from langgraph.checkpoint.memory import MemorySaver\n",
    "\n",
    "memory = MemorySaver()\n",
    "graph = builder.compile(interrupt_before=[\"tools\"], checkpointer=memory)\n",
    "\n",
    "# view\n",
    "display(Image(graph.get_graph(xray=True).draw_mermaid_png()))"
   ]
  },
  {
   "cell_type": "code",
   "execution_count": 19,
   "metadata": {},
   "outputs": [
    {
     "name": "stdout",
     "output_type": "stream",
     "text": [
      "================================\u001b[1m Human Message \u001b[0m=================================\n",
      "\n",
      "What is the average restaurant inspection score?\n",
      "==================================\u001b[1m Ai Message \u001b[0m==================================\n",
      "Tool Calls:\n",
      "  make_db_call (call_qMBMsBwhxfMjIhPLFeItLm4E)\n",
      " Call ID: call_qMBMsBwhxfMjIhPLFeItLm4E\n",
      "  Args:\n",
      "    query: SELECT AVG(inspection_score) AS average_score FROM inspection_records;\n"
     ]
    }
   ],
   "source": [
    "# Input\n",
    "initial_input = {\"messages\": HumanMessage(content=\"What is the average restaurant inspection score?\")}\n",
    "\n",
    "# Thread\n",
    "thread = {\"configurable\": {\"thread_id\": \"1\"}}\n",
    "\n",
    "# Run the graph until the first interruption\n",
    "messages = graph.invoke(initial_input, thread)\n",
    "for m in messages['messages']:\n",
    "    m.pretty_print()"
   ]
  },
  {
   "cell_type": "markdown",
   "metadata": {},
   "source": [
    "Pass \"None\" with the same Thread ID to pick up the graph from where we left off"
   ]
  },
  {
   "cell_type": "code",
   "execution_count": 20,
   "metadata": {},
   "outputs": [
    {
     "name": "stdout",
     "output_type": "stream",
     "text": [
      "=================================\u001b[1m Tool Message \u001b[0m=================================\n",
      "\n",
      "{'info': '[(86.13049016485805,)]'}\n",
      "==================================\u001b[1m Ai Message \u001b[0m==================================\n",
      "\n",
      "The average inspection score in the data is about 86.13 (exact value: 86.13049016485805). \n",
      "\n",
      "Would you like this broken down by year, city, or inspection type?\n"
     ]
    }
   ],
   "source": [
    "messages = graph.invoke(None, thread)\n",
    "for m in messages['messages'][2:]:\n",
    "    m.pretty_print()"
   ]
  },
  {
   "cell_type": "markdown",
   "metadata": {},
   "source": [
    "HITL between nodes"
   ]
  },
  {
   "cell_type": "code",
   "execution_count": 25,
   "metadata": {},
   "outputs": [
    {
     "name": "stdout",
     "output_type": "stream",
     "text": [
      "================================\u001b[1m Human Message \u001b[0m=================================\n",
      "\n",
      "What is the average restaurant inspection score?\n",
      "==================================\u001b[1m Ai Message \u001b[0m==================================\n",
      "Tool Calls:\n",
      "  make_db_call (call_JXS12JVCSv6KilUHuHWEVcAS)\n",
      " Call ID: call_JXS12JVCSv6KilUHuHWEVcAS\n",
      "  Args:\n",
      "    query: SELECT AVG(inspection_score) AS average_score FROM inspection_records\n",
      "=================================\u001b[1m Tool Message \u001b[0m=================================\n",
      "\n",
      "{'info': '[(86.13049016485805,)]'}\n",
      "==================================\u001b[1m Ai Message \u001b[0m==================================\n",
      "\n",
      "The average inspection score across all records is about 86.13 (exact value: 86.13049016485805). \n",
      "\n",
      "If you’d like, I can break this down by city, inspection type, or show the exact count of records used.\n"
     ]
    }
   ],
   "source": [
    "# Thread\n",
    "thread = {\"configurable\": {\"thread_id\": \"7\"}}\n",
    "\n",
    "# Run the graph until the first interruption\n",
    "messages = graph.invoke(initial_input, thread)\n",
    "for m in messages['messages']:\n",
    "    m.pretty_print()\n",
    "\n",
    "# Get user feedback\n",
    "user_approval = input(\"Do you want to call the tool? (y/[N]): \")\n",
    "\n",
    "# Check approval\n",
    "if user_approval.lower() == \"y\":\n",
    "    \n",
    "    # If approved, continue the graph execution\n",
    "    messages = graph.invoke(None, thread)\n",
    "    for m in messages['messages'][2:]:\n",
    "        m.pretty_print()\n",
    "        \n",
    "else:\n",
    "    print(\"Operation cancelled by user.\")"
   ]
  },
  {
   "cell_type": "markdown",
   "metadata": {},
   "source": [
    "## Interruption *within* nodes"
   ]
  },
  {
   "cell_type": "markdown",
   "metadata": {},
   "source": [
    "Create node with approval step"
   ]
  },
  {
   "cell_type": "code",
   "execution_count": 27,
   "metadata": {},
   "outputs": [],
   "source": [
    "from langgraph.types import interrupt\n",
    "\n",
    "def tool_node_with_hitl(state:State):\n",
    "\n",
    "    # last message contains param tool_calls, a list of dicts\n",
    "    tool_call = state[\"messages\"][-1].tool_calls[0]\n",
    "\n",
    "    # make tool call\n",
    "    observation = make_db_call.invoke(tool_call[\"args\"])\n",
    "\n",
    "    # interrupt with hitl decision\n",
    "    decision = interrupt({\n",
    "            \"question\": \"Append state with the output from the tool call? (y/[N])\",\n",
    "            \"sql_query\": tool_call[\"args\"],\n",
    "            \"sql_query output\": observation\n",
    "        })\n",
    "    \n",
    "    if decision.lower() == 'y':\n",
    "        # update state with output of tool call\n",
    "        tool_message = {\"role\": \"tool\", \"content\" : observation, \"tool_call_id\": tool_call[\"id\"]}\n",
    "    \n",
    "    else:\n",
    "        # don't update state with output of tool call\n",
    "        tool_message = {\"role\": \"tool\", \"content\" : \"Admin chose not to return the answer within the tool message, try again.\", \"tool_call_id\": tool_call[\"id\"]}\n",
    "    \n",
    "    return {'messages': tool_message}"
   ]
  },
  {
   "cell_type": "markdown",
   "metadata": {},
   "source": [
    "Build Graph"
   ]
  },
  {
   "cell_type": "code",
   "execution_count": 28,
   "metadata": {},
   "outputs": [],
   "source": [
    "# Create graph\n",
    "builder = StateGraph(State)\n",
    "\n",
    "# Add nodes\n",
    "builder.add_node(\"model_node\", model_node)\n",
    "builder.add_node(\"tools\", tool_node_with_hitl)\n",
    "\n",
    "# Add edges\n",
    "builder.add_edge(START, \"model_node\")\n",
    "builder.add_conditional_edges(\"model_node\", tools_condition)\n",
    "builder.add_edge(\"tools\", \"model_node\")\n",
    "\n",
    "# Compile and view\n",
    "memory = MemorySaver()\n",
    "graph = builder.compile(checkpointer=memory)"
   ]
  },
  {
   "cell_type": "code",
   "execution_count": 35,
   "metadata": {},
   "outputs": [
    {
     "name": "stdout",
     "output_type": "stream",
     "text": [
      "================================\u001b[1m Human Message \u001b[0m=================================\n",
      "\n",
      "What is the average restaurant inspection score?\n",
      "==================================\u001b[1m Ai Message \u001b[0m==================================\n",
      "Tool Calls:\n",
      "  make_db_call (call_9XJDJYSjnCdoCbWJ2QwcmmpF)\n",
      " Call ID: call_9XJDJYSjnCdoCbWJ2QwcmmpF\n",
      "  Args:\n",
      "    query: SELECT AVG(inspection_score) AS average_score FROM inspection_records;\n"
     ]
    }
   ],
   "source": [
    "# Input\n",
    "initial_input = {\"messages\": HumanMessage(content=\"What is the average restaurant inspection score?\")}\n",
    "\n",
    "# Thread\n",
    "thread = {\"configurable\": {\"thread_id\": \"10\"}}\n",
    "\n",
    "# Run the graph until the first interruption\n",
    "messages = graph.invoke(initial_input, thread)\n",
    "for m in messages['messages']:\n",
    "    m.pretty_print()"
   ]
  },
  {
   "cell_type": "markdown",
   "metadata": {},
   "source": [
    "Pass Command(resume=\"Y\") will pick up the graph from where we left off, with our answer being \"Y\""
   ]
  },
  {
   "cell_type": "code",
   "execution_count": 36,
   "metadata": {},
   "outputs": [
    {
     "name": "stdout",
     "output_type": "stream",
     "text": [
      "=================================\u001b[1m Tool Message \u001b[0m=================================\n",
      "\n",
      "Admin chose not to return the answer within the tool message, try again.\n",
      "==================================\u001b[1m Ai Message \u001b[0m==================================\n",
      "Tool Calls:\n",
      "  make_db_call (call_g08JXAVq8O45KopntMBk6lFh)\n",
      " Call ID: call_g08JXAVq8O45KopntMBk6lFh\n",
      "  Args:\n",
      "    query: SELECT AVG(inspection_score) AS average_score FROM inspection_records;\n"
     ]
    }
   ],
   "source": [
    "from langgraph.types import Command\n",
    "\n",
    "messages = graph.invoke(Command(resume=\"n\"), thread)\n",
    "for m in messages['messages'][2:]:\n",
    "    m.pretty_print()"
   ]
  },
  {
   "cell_type": "code",
   "execution_count": null,
   "metadata": {},
   "outputs": [],
   "source": []
  }
 ],
 "metadata": {
  "kernelspec": {
   "display_name": ".venv",
   "language": "python",
   "name": "python3"
  },
  "language_info": {
   "codemirror_mode": {
    "name": "ipython",
    "version": 3
   },
   "file_extension": ".py",
   "mimetype": "text/x-python",
   "name": "python",
   "nbconvert_exporter": "python",
   "pygments_lexer": "ipython3",
   "version": "3.13.0"
  }
 },
 "nbformat": 4,
 "nbformat_minor": 2
}
